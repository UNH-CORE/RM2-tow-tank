{
 "metadata": {
  "name": "",
  "signature": "sha256:a67fc3e2f6791cee31743cc46d208fb55755322e38755f6b63be7a0a4ebfb813"
 },
 "nbformat": 3,
 "nbformat_minor": 0,
 "worksheets": [
  {
   "cells": [
    {
     "cell_type": "heading",
     "level": 1,
     "metadata": {},
     "source": [
      "2015.02.06"
     ]
    },
    {
     "cell_type": "code",
     "collapsed": false,
     "input": [
      "# Standard setup block for running Python code\n",
      "from __future__ import division, print_function\n",
      "import os\n",
      "if os.path.split(os.getcwd())[-1] == \"Lab notebooks\":\n",
      "    os.chdir(\"../../\")\n",
      "    print(\"Moved to experiment root directory\")\n",
      "import numpy as np\n",
      "import pandas as pd\n",
      "import matplotlib.pyplot as plt\n",
      "plt.style.use(\"Config/plotstyle.mplstyle\")\n",
      "from Modules import processing as pr, plotting as pl\n",
      "%matplotlib inline"
     ],
     "language": "python",
     "metadata": {},
     "outputs": [
      {
       "output_type": "stream",
       "stream": "stdout",
       "text": [
        "Moved to experiment root directory\n"
       ]
      }
     ],
     "prompt_number": 1
    },
    {
     "cell_type": "markdown",
     "metadata": {},
     "source": [
      "## Daily checklist\n",
      "\n",
      "  * ~~Check tank depth and correct if necessary.~~\n",
      "  * ~~Home turbine axis.~~\n",
      "  * ~~Home tow axis.~~\n",
      "  * ~~Home y-axis.~~\n",
      "  * ~~Home z-axis.~~\n",
      "  * ~~Wipe any corrosion from turbine mounting frame.~~\n",
      "  * ~~Seed and mix tank until Vectrino SNR is approximately 12 dB.~~"
     ]
    },
    {
     "cell_type": "markdown",
     "metadata": {},
     "source": [
      "Got to the lab about 1:30 PM. \n",
      "\n",
      "Homed turbine axis.\n",
      "\n",
      "Wiped corrosion from turbine mounting frame. No visible corrosion on turbine parts.\n",
      "\n",
      "Tank depth is about 2.45 m. \n",
      "\n",
      "Homed tow axis.\n",
      "\n",
      "Checked outer guy wire tension. Looks good.\n",
      "\n",
      "Homed y- and z- axes. \n",
      "\n",
      "z-axis missed some steps on upward motion. Will grease ball screw and nut then re-home.\n",
      "\n",
      "3:22 PM -- Greased up z-axis ball screw and nut. Binding is gone.\n",
      "\n",
      "3:33 PM -- Going to do a shakedown run (no. 20) at 0.8 m/s $\\lambda=3.4$ to see how we're doing for finding $\\lambda_0$. Obtained $C_P = 0.36$\n",
      "\n",
      "3:49 PM -- Shakedown run 21, $U_\\infty=0.9$ m/s, $\\lambda=3.3$, $C_P=0.37$\n",
      "\n",
      "3:53 PM -- Shakedown run 22, $U_\\infty=1.0$ m/s, $\\lambda=3.3$, $C_P=0.37$ -- looks like we may have found $Re_0$.\n",
      "\n",
      "3:57 PM -- Shakedown run 23, $U_\\infty=0.3$ m/s, $\\lambda=3.3$, $C_P=0.23$\n",
      "\n",
      "4:06 PM -- Shakedown run 24, $U_\\infty=0.7$ m/s, $\\lambda=5.6$, $C_P=-0.04$ -- carriage oscillates a bit for the first 5 m or so. `std_tow_speed` = 0.015 m/s.\n",
      "\n",
      "4:20 PM -- Shakedown run 25, $U_\\infty = 0.8$, $\\lambda = 3.25$, $C_P = 0.37$ -- could make `tsr` range from 0.25--5.5 with increments of 0.25. \n",
      "\n",
      "4:48 PM -- Added a cup of seeding particles to tank. Did shakedown run at 0.8 m/s, 3.25 tsr. Vectrino SNR went up to about 15 dB.\n",
      "\n",
      "4:58 PM -- Did shakedown run 27. $\\lambda=5.5$, $U_\\infty=0.8$. Carriage oscillates a bit at mid tank. $C_P=0.04$.\n",
      "\n",
      "5:02 PM -- Did shakedown run 28. $\\lambda=5.0$, $U_\\infty=0.8$, $C_P=0.15$. `std_tow_speed` = 0.026. Significant carriage oscillation due to belt resonance. "
     ]
    },
    {
     "cell_type": "heading",
     "level": 2,
     "metadata": {},
     "source": [
      "Shakedown runs to find $\\lambda_0$"
     ]
    },
    {
     "cell_type": "markdown",
     "metadata": {},
     "source": [
      "| run | $\\lambda$ | $C_P$ |\n",
      "|-----|-----------|-------|\n",
      "| 32 | 3.1 | 0.363 |\n",
      "| 33 | 3.2 | 0.369 | \n",
      "| 34 | 3.25 | 0.368 |\n",
      "| 35 | 3.3 | 0.372 |"
     ]
    },
    {
     "cell_type": "code",
     "collapsed": false,
     "input": [
      "pr.process_run(\"shakedown\", 35)"
     ],
     "language": "python",
     "metadata": {},
     "outputs": [
      {
       "metadata": {},
       "output_type": "pyout",
       "prompt_number": 33,
       "text": [
        "run                35.000000\n",
        "mean_tow_speed      0.800032\n",
        "std_tow_speed       0.004243\n",
        "t1                 18.000000\n",
        "t2                 33.780000\n",
        "n_blade_pass       37.000000\n",
        "n_revs             12.000000\n",
        "mean_tsr            3.299927\n",
        "mean_cp             0.372099\n",
        "mean_cd             0.848609\n",
        "std_tsr             0.086050\n",
        "std_cp              0.142029\n",
        "std_cd              0.167556\n",
        "std_tsr_per_rev     0.001153\n",
        "std_cp_per_rev      0.006327\n",
        "std_cd_per_rev      0.003976\n",
        "exp_unc_tsr         0.002651\n",
        "exp_unc_cp          0.018035\n",
        "exp_unc_cd          0.009206\n",
        "dof_tsr            11.003599\n",
        "dof_cp             18.989034\n",
        "dof_cd             11.702643\n",
        "t1_wake            18.000000\n",
        "t2_wake            33.780000\n",
        "y_R                 0.000000\n",
        "z_H                 0.750000\n",
        "mean_u              0.636852\n",
        "mean_v             -0.012381\n",
        "mean_w             -0.048937\n",
        "std_u               0.109409\n",
        "std_v               0.130160\n",
        "std_w               0.097896\n",
        "mean_upvp          -0.000752\n",
        "mean_upwp          -0.001615\n",
        "mean_vpwp           0.001777\n",
        "k                   0.019242\n",
        "dtype: float64"
       ]
      }
     ],
     "prompt_number": 33
    },
    {
     "cell_type": "code",
     "collapsed": false,
     "input": [
      "pr.process_latest_run(\"shakedown\")"
     ],
     "language": "python",
     "metadata": {},
     "outputs": [
      {
       "output_type": "stream",
       "stream": "stdout",
       "text": [
        "Processing latest run in shakedown\n",
        "\n",
        "Summary for shakedown run 34:\n",
        "run                34.000000\n",
        "mean_tow_speed      0.800022\n",
        "std_tow_speed       0.004306\n",
        "t1                 18.000000\n",
        "t2                 33.580000\n",
        "n_blade_pass       36.000000\n",
        "n_revs             12.000000\n",
        "mean_tsr            3.250017\n",
        "mean_cp             0.367947\n",
        "mean_cd             0.836535\n",
        "std_tsr             0.085688\n",
        "std_cp              0.138440\n",
        "std_cd              0.161994\n",
        "std_tsr_per_rev     0.001584\n",
        "std_cp_per_rev      0.003777\n",
        "std_cd_per_rev      0.005282\n",
        "exp_unc_tsr         0.003642\n",
        "exp_unc_cp          0.014330\n",
        "exp_unc_cd          0.012191\n",
        "dof_tsr            11.001879\n",
        "dof_cp             15.021028\n",
        "dof_cd             11.399568\n",
        "t1_wake            18.000000\n",
        "t2_wake            33.580000\n",
        "y_R                 0.000000\n",
        "z_H                 0.750000\n",
        "mean_u              0.618988\n",
        "mean_v             -0.004105\n",
        "mean_w             -0.039622\n",
        "std_u               0.217833\n",
        "std_v               0.164700\n",
        "std_w               0.108815\n",
        "mean_upvp           0.001105\n",
        "mean_upwp          -0.009623\n",
        "mean_vpwp           0.000795\n",
        "k                   0.043993\n",
        "dtype: float64"
       ]
      },
      {
       "output_type": "stream",
       "stream": "stdout",
       "text": [
        "\n"
       ]
      }
     ],
     "prompt_number": 28
    },
    {
     "cell_type": "code",
     "collapsed": false,
     "input": [],
     "language": "python",
     "metadata": {},
     "outputs": []
    }
   ],
   "metadata": {}
  }
 ]
}