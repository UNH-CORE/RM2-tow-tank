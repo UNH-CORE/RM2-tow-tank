{
 "metadata": {
  "name": "",
  "signature": "sha256:1332b9eded9ff6ac4cacf979102eb5a3f200e0b1af6ddea67ef0b550087c0147"
 },
 "nbformat": 3,
 "nbformat_minor": 0,
 "worksheets": [
  {
   "cells": [
    {
     "cell_type": "heading",
     "level": 1,
     "metadata": {},
     "source": [
      "2015.02.06"
     ]
    },
    {
     "cell_type": "code",
     "collapsed": false,
     "input": [
      "# Standard setup block for running Python code\n",
      "from __future__ import division, print_function\n",
      "import os\n",
      "if os.path.split(os.getcwd())[-1] == \"Lab notebooks\":\n",
      "    os.chdir(\"../../\")\n",
      "    print(\"Moved to experiment root directory\")\n",
      "import numpy as np\n",
      "import pandas as pd\n",
      "import matplotlib.pyplot as plt\n",
      "plt.style.use(\"Config/plotstyle.mplstyle\")\n",
      "from Modules import processing as pr, plotting as pl\n",
      "%matplotlib inline"
     ],
     "language": "python",
     "metadata": {},
     "outputs": [
      {
       "output_type": "stream",
       "stream": "stdout",
       "text": [
        "Moved to experiment root directory\n"
       ]
      }
     ],
     "prompt_number": 1
    },
    {
     "cell_type": "markdown",
     "metadata": {},
     "source": [
      "## Daily checklist\n",
      "\n",
      "  * ~~Check tank depth and correct if necessary.~~\n",
      "  * ~~Home turbine axis.~~\n",
      "  * ~~Home tow axis.~~\n",
      "  * ~~Home y-axis.~~\n",
      "  * ~~Home z-axis.~~\n",
      "  * ~~Wipe any corrosion from turbine mounting frame.~~\n",
      "  * ~~Seed and mix tank until Vectrino SNR is approximately 12 dB.~~"
     ]
    },
    {
     "cell_type": "markdown",
     "metadata": {},
     "source": [
      "Got to the lab about 1:30 PM. \n",
      "\n",
      "Homed turbine axis.\n",
      "\n",
      "Wiped corrosion from turbine mounting frame. No visible corrosion on turbine parts.\n",
      "\n",
      "Tank depth is about 2.45 m. \n",
      "\n",
      "Homed tow axis.\n",
      "\n",
      "Checked outer guy wire tension. Looks good.\n",
      "\n",
      "Homed y- and z- axes. \n",
      "\n",
      "z-axis missed some steps on upward motion. Will grease ball screw and nut then re-home.\n",
      "\n",
      "3:22 PM -- Greased up z-axis ball screw and nut. Binding is gone.\n",
      "\n",
      "3:33 PM -- Going to do a shakedown run (no. 20) at 0.8 m/s $\\lambda=3.4$ to see how we're doing for finding $\\lambda_0$. Obtained $C_P = 0.36$\n",
      "\n",
      "3:49 PM -- Shakedown run 21, $U_\\infty=0.9$ m/s, $\\lambda=3.3$, $C_P=0.37$\n",
      "\n",
      "3:53 PM -- Shakedown run 22, $U_\\infty=1.0$ m/s, $\\lambda=3.3$, $C_P=0.37$ -- looks like we may have found $Re_0$.\n",
      "\n",
      "3:57 PM -- Shakedown run 23, $U_\\infty=0.3$ m/s, $\\lambda=3.3$, $C_P=0.23$\n",
      "\n",
      "4:06 PM -- Shakedown run 24, $U_\\infty=0.7$ m/s, $\\lambda=5.6$, $C_P=-0.04$ -- carriage oscillates a bit for the first 5 m or so. `std_tow_speed` = 0.015 m/s.\n",
      "\n",
      "4:20 PM -- Shakedown run 25, $U_\\infty = 0.8$, $\\lambda = 3.25$, $C_P = 0.37$ -- could make `tsr` range from 0.25--5.5 with increments of 0.25. \n",
      "\n",
      "4:48 PM -- Added a cup of seeding particles to tank. Did shakedown run at 0.8 m/s, 3.25 tsr. Vectrino SNR went up to about 15 dB.\n",
      "\n",
      "4:58 PM -- Did shakedown run 27. $\\lambda=5.5$, $U_\\infty=0.8$. Carriage oscillates a bit at mid tank. $C_P=0.04$.\n",
      "\n",
      "5:02 PM -- Did shakedown run 28. $\\lambda=5.0$, $U_\\infty=0.8$, $C_P=0.15$. `std_tow_speed` = 0.026. Significant carriage oscillation due to belt resonance. "
     ]
    },
    {
     "cell_type": "code",
     "collapsed": false,
     "input": [
      "pr.process_run(\"shakedown\", 26)"
     ],
     "language": "python",
     "metadata": {},
     "outputs": [
      {
       "metadata": {},
       "output_type": "pyout",
       "prompt_number": 20,
       "text": [
        "run                26.000000\n",
        "mean_tow_speed      0.800026\n",
        "std_tow_speed       0.004268\n",
        "t1                 18.000000\n",
        "t2                 33.590000\n",
        "n_blade_pass       36.000000\n",
        "n_revs             12.000000\n",
        "mean_tsr            3.249949\n",
        "mean_cp             0.372318\n",
        "mean_cd             0.840967\n",
        "std_tsr             0.086166\n",
        "std_cp              0.139781\n",
        "std_cd              0.163667\n",
        "std_tsr_per_rev     0.000998\n",
        "std_cp_per_rev      0.009372\n",
        "std_cd_per_rev      0.010259\n",
        "exp_unc_tsr         0.002294\n",
        "exp_unc_cp          0.023630\n",
        "exp_unc_cd          0.023608\n",
        "dof_tsr            11.004736\n",
        "dof_cp             17.013807\n",
        "dof_cd             11.106219\n",
        "t1_wake            18.000000\n",
        "t2_wake            33.590000\n",
        "y_R                 0.000000\n",
        "z_H                 0.750000\n",
        "mean_u              0.643927\n",
        "mean_v             -0.009532\n",
        "mean_w             -0.054254\n",
        "std_u               0.113118\n",
        "std_v               0.126189\n",
        "std_w               0.094647\n",
        "mean_upvp          -0.000103\n",
        "mean_upwp          -0.001649\n",
        "mean_vpwp          -0.000250\n",
        "k                   0.018833\n",
        "dtype: float64"
       ]
      }
     ],
     "prompt_number": 20
    }
   ],
   "metadata": {}
  }
 ]
}