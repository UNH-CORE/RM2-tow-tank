{
 "metadata": {
  "name": "",
  "signature": "sha256:1277c9cd459ad1989a539bfa0f62fe50bfea0083e7ecd33e2d063894ecbc4e69"
 },
 "nbformat": 3,
 "nbformat_minor": 0,
 "worksheets": [
  {
   "cells": [
    {
     "cell_type": "heading",
     "level": 1,
     "metadata": {},
     "source": [
      "2015.02.06"
     ]
    },
    {
     "cell_type": "code",
     "collapsed": false,
     "input": [
      "# Standard setup block for running Python code\n",
      "from __future__ import division, print_function\n",
      "import os\n",
      "if os.path.split(os.getcwd())[-1] == \"Lab notebooks\":\n",
      "    os.chdir(\"../../\")\n",
      "    print(\"Moved to experiment root directory\")\n",
      "import numpy as np\n",
      "import pandas as pd\n",
      "import matplotlib.pyplot as plt\n",
      "plt.style.use(\"Config/plotstyle.mplstyle\")\n",
      "from Modules import processing as pr, plotting as pl\n",
      "%matplotlib inline"
     ],
     "language": "python",
     "metadata": {},
     "outputs": [
      {
       "output_type": "stream",
       "stream": "stdout",
       "text": [
        "Moved to experiment root directory\n"
       ]
      }
     ],
     "prompt_number": 1
    },
    {
     "cell_type": "markdown",
     "metadata": {},
     "source": [
      "## Daily checklist\n",
      "\n",
      "  * ~~Check tank depth and correct if necessary.~~\n",
      "  * ~~Home turbine axis.~~\n",
      "  * ~~Home tow axis.~~\n",
      "  * ~~Home y-axis.~~\n",
      "  * ~~Home z-axis.~~\n",
      "  * ~~Wipe any corrosion from turbine mounting frame.~~\n",
      "  * ~~Seed and mix tank until Vectrino SNR is approximately 12 dB.~~"
     ]
    },
    {
     "cell_type": "markdown",
     "metadata": {},
     "source": [
      "Got to the lab about 1:30 PM. \n",
      "\n",
      "Homed turbine axis.\n",
      "\n",
      "Wiped corrosion from turbine mounting frame. No visible corrosion on turbine parts.\n",
      "\n",
      "Tank depth is about 2.45 m. \n",
      "\n",
      "Homed tow axis.\n",
      "\n",
      "Checked outer guy wire tension. Looks good.\n",
      "\n",
      "Homed y- and z- axes. \n",
      "\n",
      "z-axis missed some steps on upward motion. Will grease ball screw and nut then re-home.\n",
      "\n",
      "3:22 PM -- Greased up z-axis ball screw and nut. Binding is gone.\n",
      "\n",
      "3:33 PM -- Going to do a shakedown run (no. 20) at 0.8 m/s $\\lambda=3.4$ to see how we're doing for finding $\\lambda_0$. Obtained $C_P = 0.36$\n",
      "\n",
      "3:49 PM -- Shakedown run 21, $U_\\infty=0.9$ m/s, $\\lambda=3.3$, $C_P=0.37$\n",
      "\n",
      "3:53 PM -- Shakedown run 22, $U_\\infty=1.0$ m/s, $\\lambda=3.3$, $C_P=0.37$ -- looks like we may have found $Re_0$.\n",
      "\n",
      "3:57 PM -- Shakedown run 23, $U_\\infty=0.3$ m/s, $\\lambda=3.3$, $C_P=0.23$\n",
      "\n",
      "4:06 PM -- Shakedown run 24, $U_\\infty=0.7$ m/s, $\\lambda=5.6$, $C_P=-0.04$ -- carriage oscillates a bit for the first 5 m or so. `std_tow_speed` = 0.015 m/s.\n",
      "\n",
      "4:20 PM -- Shakedown run 25, $U_\\infty = 0.8$, $\\lambda = 3.25$, $C_P = 0.37$ -- could make `tsr` range from 0.25--5.5 with increments of 0.25. \n",
      "\n",
      "4:48 PM -- Added a cup of seeding particles to tank. Did shakedown run at 0.8 m/s, 3.25 tsr. Vectrino SNR went up to about 15 dB.\n",
      "\n",
      "4:58 PM -- Did shakedown run 27. $\\lambda=5.5$, $U_\\infty=0.8$. Carriage oscillates a bit at mid tank. $C_P=0.04$.\n",
      "\n",
      "5:02 PM -- Did shakedown run 28. $\\lambda=5.0$, $U_\\infty=0.8$, $C_P=0.15$. `std_tow_speed` = 0.026. Significant carriage oscillation due to belt resonance. "
     ]
    },
    {
     "cell_type": "heading",
     "level": 2,
     "metadata": {},
     "source": [
      "Shakedown runs to find $\\lambda_0$ (at $U_\\infty=0.8$)"
     ]
    },
    {
     "cell_type": "code",
     "collapsed": false,
     "input": [
      "runs = range(32, 42)\n",
      "cp = []\n",
      "tsr = []\n",
      "\n",
      "for n in runs:\n",
      "    r = pr.Run(\"shakedown\", n)\n",
      "    cp.append(r.mean_cp)\n",
      "    tsr.append(r.mean_tsr)\n",
      "    \n",
      "df = pd.DataFrame()\n",
      "df[\"run\"] = runs\n",
      "df[\"tsr\"] = tsr\n",
      "df[\"cp\"] = cp\n",
      "\n",
      "print(df)\n",
      "\n",
      "plt.plot(tsr, cp, \"o\")\n",
      "plt.xlim((2.75, 3.75))\n",
      "plt.ylim((0.1, 0.4))\n",
      "plt.xlabel(\"$\\lambda$\")\n",
      "plt.ylabel(\"$C_P$\")\n",
      "plt.show()"
     ],
     "language": "python",
     "metadata": {},
     "outputs": [
      {
       "output_type": "stream",
       "stream": "stdout",
       "text": [
        "   run       tsr        cp\n",
        "0   32  3.099969  0.363332\n",
        "1   33  3.199763  0.369371\n",
        "2   34  3.250017  0.367947\n",
        "3   35  3.299927  0.372099\n",
        "4   36  3.349698  0.363520\n",
        "5   37  3.399965  0.357409\n",
        "6   38  3.449681  0.361855\n",
        "7   39  3.149937  0.372354\n",
        "8   40  3.199904  0.369293\n",
        "9   41  3.199778  0.369911\n"
       ]
      },
      {
       "metadata": {},
       "output_type": "display_data",
       "png": "[encoded data removed]",
       "text": [
        "<matplotlib.figure.Figure at 0x16565a90>"
       ]
      }
     ],
     "prompt_number": 57
    },
    {
     "cell_type": "code",
     "collapsed": false,
     "input": [
      "pr.process_latest_run(\"shakedown\")"
     ],
     "language": "python",
     "metadata": {},
     "outputs": [
      {
       "output_type": "stream",
       "stream": "stdout",
       "text": [
        "Processing latest run in shakedown\n",
        "\n",
        "Summary for shakedown run 38:\n",
        "run                38.000000\n",
        "mean_tow_speed      0.800033\n",
        "std_tow_speed       0.004354\n",
        "t1                 18.000000\n",
        "t2                 33.910000\n",
        "n_blade_pass       39.000000\n",
        "n_revs             13.000000\n",
        "mean_tsr            3.449681\n",
        "mean_cp             0.361855\n",
        "mean_cd             0.869609\n",
        "std_tsr             0.084363\n",
        "std_cp              0.146740\n",
        "std_cd              0.180417\n",
        "std_tsr_per_rev     0.002834\n",
        "std_cp_per_rev      0.005793\n",
        "std_cd_per_rev      0.005043\n",
        "exp_unc_tsr         0.006426\n",
        "exp_unc_cp          0.017467\n",
        "exp_unc_cd          0.011494\n",
        "dof_tsr            12.000680\n",
        "dof_cp             19.217578\n",
        "dof_cd             12.477207\n",
        "t1_wake            18.000000\n",
        "t2_wake            33.910000\n",
        "y_R                 0.000000\n",
        "z_H                 0.750000\n",
        "mean_u              0.631394\n",
        "mean_v             -0.017932\n",
        "mean_w             -0.046566\n",
        "std_u               0.115438\n",
        "std_v               0.129290\n",
        "std_w               0.098824\n",
        "mean_upvp           0.000335\n",
        "mean_upwp          -0.001531\n",
        "mean_vpwp          -0.000048\n",
        "k                   0.019898\n",
        "dtype: float64"
       ]
      },
      {
       "output_type": "stream",
       "stream": "stdout",
       "text": [
        "\n"
       ]
      }
     ],
     "prompt_number": 53
    },
    {
     "cell_type": "code",
     "collapsed": false,
     "input": [
      "pr.process_run(\"shakedown\", 37)"
     ],
     "language": "python",
     "metadata": {},
     "outputs": [
      {
       "metadata": {},
       "output_type": "pyout",
       "prompt_number": 35,
       "text": [
        "run                37.000000\n",
        "mean_tow_speed      0.800034\n",
        "std_tow_speed       0.004298\n",
        "t1                 18.000000\n",
        "t2                 33.720000\n",
        "n_blade_pass       38.000000\n",
        "n_revs             12.000000\n",
        "mean_tsr            3.399965\n",
        "mean_cp             0.357409\n",
        "mean_cd             0.853713\n",
        "std_tsr             0.082539\n",
        "std_cp              0.140573\n",
        "std_cd              0.173270\n",
        "std_tsr_per_rev     0.001908\n",
        "std_cp_per_rev      0.006325\n",
        "std_cd_per_rev      0.007257\n",
        "exp_unc_tsr         0.004385\n",
        "exp_unc_cp          0.018261\n",
        "exp_unc_cd          0.016718\n",
        "dof_tsr            11.001355\n",
        "dof_cp             18.944288\n",
        "dof_cd             11.212043\n",
        "t1_wake            18.000000\n",
        "t2_wake            33.720000\n",
        "y_R                 0.000000\n",
        "z_H                 0.750000\n",
        "mean_u              0.630674\n",
        "mean_v             -0.021233\n",
        "mean_w             -0.051541\n",
        "std_u               0.111812\n",
        "std_v               0.131455\n",
        "std_w               0.099901\n",
        "mean_upvp           0.000882\n",
        "mean_upwp          -0.001720\n",
        "mean_vpwp           0.000355\n",
        "k                   0.019875\n",
        "dtype: float64"
       ]
      }
     ],
     "prompt_number": 35
    },
    {
     "cell_type": "code",
     "collapsed": false,
     "input": [],
     "language": "python",
     "metadata": {},
     "outputs": []
    }
   ],
   "metadata": {}
  }
 ]
}