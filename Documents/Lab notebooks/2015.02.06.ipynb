{
 "metadata": {
  "name": "",
  "signature": "sha256:45fed0fb81356084d5f1ae05a9232f106a0926217462aa3d2e87e6d1dd90682b"
 },
 "nbformat": 3,
 "nbformat_minor": 0,
 "worksheets": [
  {
   "cells": [
    {
     "cell_type": "heading",
     "level": 1,
     "metadata": {},
     "source": [
      "2015.02.06"
     ]
    },
    {
     "cell_type": "markdown",
     "metadata": {},
     "source": [
      "Got to the lab about 1:30 PM. \n",
      "\n",
      "Homed turbine axis.\n",
      "\n",
      "Wiped corrosion from turbine mounting frame. No visible corrosion on turbine parts."
     ]
    }
   ],
   "metadata": {}
  }
 ]
}