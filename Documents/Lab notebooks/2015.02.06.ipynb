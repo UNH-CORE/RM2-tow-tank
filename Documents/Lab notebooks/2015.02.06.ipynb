{
 "metadata": {
  "name": "",
  "signature": "sha256:cd593b860268139827582acf942445e988c6c9b5aa729f1d2d9585d39f6a2a61"
 },
 "nbformat": 3,
 "nbformat_minor": 0,
 "worksheets": [
  {
   "cells": [
    {
     "cell_type": "heading",
     "level": 1,
     "metadata": {},
     "source": [
      "2015.02.06"
     ]
    },
    {
     "cell_type": "code",
     "collapsed": false,
     "input": [
      "# Standard setup block for running Python code\n",
      "from __future__ import division, print_function\n",
      "import os\n",
      "if os.path.split(os.getcwd())[-1] == \"Lab notebooks\":\n",
      "    os.chdir(\"../../\")\n",
      "    print(\"Moved to experiment root directory\")\n",
      "import numpy as np\n",
      "import pandas as pd\n",
      "import matplotlib.pyplot as plt\n",
      "plt.style.use(\"Config/plotstyle.mplstyle\")\n",
      "from Modules import processing as pr, plotting as pl\n",
      "%matplotlib inline"
     ],
     "language": "python",
     "metadata": {},
     "outputs": [],
     "prompt_number": 114
    },
    {
     "cell_type": "markdown",
     "metadata": {},
     "source": [
      "## Daily checklist\n",
      "\n",
      "  * ~~Check tank depth and correct if necessary.~~\n",
      "  * ~~Home turbine axis.~~\n",
      "  * ~~Home tow axis.~~\n",
      "  * ~~Home y-axis.~~\n",
      "  * ~~Home z-axis.~~\n",
      "  * ~~Wipe any corrosion from turbine mounting frame.~~\n",
      "  * ~~Seed and mix tank until Vectrino SNR is approximately 12 dB.~~"
     ]
    },
    {
     "cell_type": "markdown",
     "metadata": {},
     "source": [
      "Got to the lab about 1:30 PM. \n",
      "\n",
      "Homed turbine axis.\n",
      "\n",
      "Wiped corrosion from turbine mounting frame. No visible corrosion on turbine parts.\n",
      "\n",
      "Tank depth is about 2.45 m. \n",
      "\n",
      "Homed tow axis.\n",
      "\n",
      "Checked outer guy wire tension. Looks good.\n",
      "\n",
      "Homed y- and z- axes. \n",
      "\n",
      "z-axis missed some steps on upward motion. Will grease ball screw and nut then re-home.\n",
      "\n",
      "3:22 PM -- Greased up z-axis ball screw and nut. Binding is gone.\n",
      "\n",
      "3:33 PM -- Going to do a shakedown run (no. 20) at 0.8 m/s $\\lambda=3.4$ to see how we're doing for finding $\\lambda_0$. Obtained $C_P = 0.36$\n",
      "\n",
      "3:49 PM -- Shakedown run 21, $U_\\infty=0.9$ m/s, $\\lambda=3.3$, $C_P=0.37$\n",
      "\n",
      "3:53 PM -- Shakedown run 22, $U_\\infty=1.0$ m/s, $\\lambda=3.3$, $C_P=0.37$ -- looks like we may have found $Re_0$.\n",
      "\n",
      "3:57 PM -- Shakedown run 23, $U_\\infty=0.3$ m/s, $\\lambda=3.3$, $C_P=0.23$\n",
      "\n",
      "4:06 PM -- Shakedown run 24, $U_\\infty=0.7$ m/s, $\\lambda=5.6$, $C_P=-0.04$ -- carriage oscillates a bit for the first 5 m or so. `std_tow_speed` = 0.015 m/s.\n",
      "\n",
      "4:20 PM -- Shakedown run 25, $U_\\infty = 0.8$, $\\lambda = 3.25$, $C_P = 0.37$ -- could make `tsr` range from 0.25--5.5 with increments of 0.25. \n",
      "\n",
      "4:48 PM -- Added a cup of seeding particles to tank. Did shakedown run at 0.8 m/s, 3.25 tsr. Vectrino SNR went up to about 15 dB.\n",
      "\n",
      "4:58 PM -- Did shakedown run 27. $\\lambda=5.5$, $U_\\infty=0.8$. Carriage oscillates a bit at mid tank. $C_P=0.04$.\n",
      "\n",
      "5:02 PM -- Did shakedown run 28. $\\lambda=5.0$, $U_\\infty=0.8$, $C_P=0.15$. `std_tow_speed` = 0.026. Significant carriage oscillation due to belt resonance. \n",
      "\n",
      "7:44 PM -- Turbine zero angle bracket got caught on curved jaw coupling and got bent pretty badly. Will try to turn turbine on/off each day at zero angle to keep things repeatable. \n",
      "\n",
      "9:37 PM -- Calling it quits for tonight. Pretty close to knowing TSR values for performance curve, but want to play around with some different options. Settling runs will be done tomorrow. "
     ]
    },
    {
     "cell_type": "heading",
     "level": 2,
     "metadata": {},
     "source": [
      "Shakedown runs to find $\\lambda_0$ (at $U_\\infty=0.8$)"
     ]
    },
    {
     "cell_type": "code",
     "collapsed": false,
     "input": [
      "runs = [27, 28] + range(32, 74)\n",
      "#runs = [34, 44, 48, 49, 52] + range(57, 66) + [67, 68, 69]\n",
      "cp = []\n",
      "tsr = []\n",
      "\n",
      "for n in runs:\n",
      "    r = pr.Run(\"shakedown\", n)\n",
      "    cp.append(r.mean_cp)\n",
      "    tsr.append(r.mean_tsr)\n",
      "    \n",
      "df = pd.DataFrame()\n",
      "df[\"run\"] = runs\n",
      "df[\"tsr\"] = tsr\n",
      "df[\"cp\"] = cp\n",
      "\n",
      "print(df)\n",
      "\n",
      "plt.figure(figsize=(10,6))\n",
      "plt.plot(tsr, cp, \"o\")\n",
      "plt.xlim((0, 5.75))\n",
      "plt.ylim((0, 0.4))\n",
      "plt.xlabel(\"$\\lambda$\")\n",
      "plt.ylabel(\"$C_P$\")\n",
      "plt.show()"
     ],
     "language": "python",
     "metadata": {},
     "outputs": [
      {
       "output_type": "stream",
       "stream": "stdout",
       "text": [
        "    run       tsr        cp\n",
        "0    27  5.512072  0.039182\n",
        "1    28  5.005034  0.147397\n",
        "2    32  3.099969  0.363332\n",
        "3    33  3.199763  0.369371\n",
        "4    34  3.250017  0.367947\n",
        "5    35  3.299927  0.372099\n",
        "6    36  3.349698  0.363520\n",
        "7    37  3.399965  0.357409\n",
        "8    38  3.449681  0.361855\n",
        "9    39  3.149937  0.372354\n",
        "10   40  3.199904  0.369293\n",
        "11   41  3.199778  0.369911\n",
        "12   42  3.149767  0.372238\n",
        "13   43  3.300005  0.365022\n",
        "14   44  2.999749  0.364746\n",
        "15   45  2.899874  0.347091\n",
        "16   46  2.949498  0.359192\n",
        "17   47  3.050025  0.365256\n",
        "18   48  3.499725  0.351717\n",
        "19   49  3.249844  0.368717\n",
        "20   50  3.299891  0.369130\n",
        "21   51  3.099923  0.367295\n",
        "22   52  2.749852  0.305731\n",
        "23   53  2.799881  0.323646\n",
        "24   54  2.849874  0.330273\n",
        "25   55  3.449858  0.356080\n",
        "26   56  3.399791  0.362773\n",
        "27   57  3.999676  0.299448\n",
        "28   58  4.499913  0.216621\n",
        "29   59  2.499736  0.232697\n",
        "30   60  2.000273  0.068157\n",
        "31   61  2.250025  0.148874\n",
        "32   62  1.500214  0.015306\n",
        "33   63  1.000192  0.007725\n",
        "34   64  1.750123  0.031158\n",
        "35   65  3.749784  0.341982\n",
        "36   66  2.599689  0.268255\n",
        "37   67  4.249822  0.256189\n",
        "38   68  3.749357  0.340043\n",
        "39   69  4.750217  0.178148\n",
        "40   70  2.129849  0.100572\n",
        "41   71  2.380237  0.184940\n",
        "42   72  3.629764  0.343734\n",
        "43   73  3.879843  0.312008\n"
       ]
      },
      {
       "metadata": {},
       "output_type": "display_data",
       "png": "[encoded data removed]",
       "text": [
        "<matplotlib.figure.Figure at 0x1122fef0>"
       ]
      }
     ],
     "prompt_number": 115
    },
    {
     "cell_type": "code",
     "collapsed": false,
     "input": [
      "3.3*pr.R*.06*0.8/1e-6"
     ],
     "language": "python",
     "metadata": {},
     "outputs": [
      {
       "metadata": {},
       "output_type": "pyout",
       "prompt_number": 68,
       "text": [
        "85140.0"
       ]
      }
     ],
     "prompt_number": 68
    },
    {
     "cell_type": "code",
     "collapsed": false,
     "input": [
      "pr.process_latest_run(\"shakedown\")"
     ],
     "language": "python",
     "metadata": {},
     "outputs": [
      {
       "output_type": "stream",
       "stream": "stdout",
       "text": [
        "Processing latest run in shakedown\n",
        "\n",
        "Summary for shakedown run 59:\n",
        "run                59.000000\n",
        "mean_tow_speed      0.800036\n",
        "std_tow_speed       0.004745\n",
        "t1                 18.000000\n",
        "t2                 33.760000\n",
        "n_blade_pass       28.000000\n",
        "n_revs              9.000000\n",
        "mean_tsr            2.499736\n",
        "mean_cp             0.232697\n",
        "mean_cd             0.631594\n",
        "std_tsr             0.148579\n",
        "std_cp              0.179999\n",
        "std_cd              0.183120\n",
        "std_tsr_per_rev     0.002178\n",
        "std_cp_per_rev      0.003988\n",
        "std_cd_per_rev      0.003831\n",
        "exp_unc_tsr         0.005327\n",
        "exp_unc_cp          0.012621\n",
        "exp_unc_cd          0.009408\n",
        "dof_tsr             8.000581\n",
        "dof_cp             15.962075\n",
        "dof_cd              8.553746\n",
        "t1_wake            18.000000\n",
        "t2_wake            33.760000\n",
        "y_R                 0.000000\n",
        "z_H                 0.750000\n",
        "mean_u              0.637792\n",
        "mean_v             -0.025826\n",
        "mean_w             -0.053352\n",
        "std_u               0.106284\n",
        "std_v               0.131953\n",
        "std_w               0.091450\n",
        "mean_upvp           0.000072\n",
        "mean_upwp          -0.000473\n",
        "mean_vpwp          -0.000380\n",
        "k                   0.018530\n",
        "dtype: float64"
       ]
      },
      {
       "output_type": "stream",
       "stream": "stdout",
       "text": [
        "\n"
       ]
      }
     ],
     "prompt_number": 90
    },
    {
     "cell_type": "code",
     "collapsed": false,
     "input": [
      "pr.process_run(\"shakedown\", 37)"
     ],
     "language": "python",
     "metadata": {},
     "outputs": [
      {
       "metadata": {},
       "output_type": "pyout",
       "prompt_number": 35,
       "text": [
        "run                37.000000\n",
        "mean_tow_speed      0.800034\n",
        "std_tow_speed       0.004298\n",
        "t1                 18.000000\n",
        "t2                 33.720000\n",
        "n_blade_pass       38.000000\n",
        "n_revs             12.000000\n",
        "mean_tsr            3.399965\n",
        "mean_cp             0.357409\n",
        "mean_cd             0.853713\n",
        "std_tsr             0.082539\n",
        "std_cp              0.140573\n",
        "std_cd              0.173270\n",
        "std_tsr_per_rev     0.001908\n",
        "std_cp_per_rev      0.006325\n",
        "std_cd_per_rev      0.007257\n",
        "exp_unc_tsr         0.004385\n",
        "exp_unc_cp          0.018261\n",
        "exp_unc_cd          0.016718\n",
        "dof_tsr            11.001355\n",
        "dof_cp             18.944288\n",
        "dof_cd             11.212043\n",
        "t1_wake            18.000000\n",
        "t2_wake            33.720000\n",
        "y_R                 0.000000\n",
        "z_H                 0.750000\n",
        "mean_u              0.630674\n",
        "mean_v             -0.021233\n",
        "mean_w             -0.051541\n",
        "std_u               0.111812\n",
        "std_v               0.131455\n",
        "std_w               0.099901\n",
        "mean_upvp           0.000882\n",
        "mean_upwp          -0.001720\n",
        "mean_vpwp           0.000355\n",
        "k                   0.019875\n",
        "dtype: float64"
       ]
      }
     ],
     "prompt_number": 35
    },
    {
     "cell_type": "code",
     "collapsed": false,
     "input": [],
     "language": "python",
     "metadata": {},
     "outputs": []
    }
   ],
   "metadata": {}
  }
 ]
}