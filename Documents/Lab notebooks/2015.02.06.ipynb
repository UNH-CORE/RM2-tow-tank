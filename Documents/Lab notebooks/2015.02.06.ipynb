{
 "metadata": {
  "name": "",
  "signature": "sha256:35a1926bcd81e8594df25cc86d6aecc724b0e7c511669ed3e322ddd15aa0f3a6"
 },
 "nbformat": 3,
 "nbformat_minor": 0,
 "worksheets": [
  {
   "cells": [
    {
     "cell_type": "heading",
     "level": 1,
     "metadata": {},
     "source": [
      "2015.02.06"
     ]
    },
    {
     "cell_type": "code",
     "collapsed": false,
     "input": [
      "# Standard setup block for running Python code\n",
      "from __future__ import division, print_function\n",
      "import os\n",
      "if os.path.split(os.getcwd())[-1] == \"Lab notebooks\":\n",
      "    os.chdir(\"../../\")\n",
      "    print(\"Moved to experiment root directory\")\n",
      "import numpy as np\n",
      "import pandas as pd\n",
      "import matplotlib.pyplot as plt\n",
      "plt.style.use(\"Config/plotstyle.mplstyle\")\n",
      "from Modules import processing as pr, plotting as pl\n",
      "%matplotlib inline"
     ],
     "language": "python",
     "metadata": {},
     "outputs": [
      {
       "output_type": "stream",
       "stream": "stdout",
       "text": [
        "Moved to experiment root directory\n"
       ]
      }
     ],
     "prompt_number": 1
    },
    {
     "cell_type": "markdown",
     "metadata": {},
     "source": [
      "Got to the lab about 1:30 PM. \n",
      "\n",
      "Homed turbine axis.\n",
      "\n",
      "Wiped corrosion from turbine mounting frame. No visible corrosion on turbine parts.\n",
      "\n",
      "Tank depth is about 2.45 m. \n",
      "\n",
      "Homed tow axis.\n",
      "\n",
      "Checked outer guy wire tension. Looks good.\n",
      "\n",
      "Homed y- and z- axes. \n",
      "\n",
      "z-axis missed some steps on upward motion. Will grease ball screw and nut then re-home.\n",
      "\n",
      "3:22 PM -- Greased up z-axis ball screw and nut. Binding is gone.\n",
      "\n",
      "3:33 PM -- Going to do a shakedown run (no. 20) at 0.8 m/s $\\lambda=3.4$ to see how we're doing for finding $\\lambda_0$. Obtained $C_P = 0.36$\n",
      "\n",
      "3:49 PM -- Shakedown run 21, $U_\\infty=0.9$ m/s, $\\lambda=3.3$, $C_P=0.37$\n",
      "\n",
      "3:53 PM -- Shakedown run 22, $U_\\infty=1.0$ m/s, $\\lambda=3.3$, $C_P=0.37$ -- looks like we may have found $Re_0$.\n",
      "\n",
      "3:57 PM -- Shakedown run 23, $U_\\infty=0.3$ m/s, $\\lambda=3.3$, $C_P=0.23$\n",
      "\n",
      "4:06 PM -- Shakedown run 24, $U_\\infty=0.7$ m/s, $\\lambda=5.6$, $C_P=-0.04$ -- carriage oscillates a bit for the first 5 m or so. `std_tow_speed` = 0.015 m/s.\n",
      "\n",
      "4:20 PM -- Shakedown run 25, $U_\\infty = 0.8$, $\\lambda = 3.25$, $C_P = 0.37$ -- could make `tsr` range from 0.25--5.5 with increments of 0.25. \n",
      "\n",
      "4:48 PM -- Added a cup of seeding particles to tank. Did shakedown run at 0.8 m/s, 3.25 tsr. Vectrino SNR went up to about 15 dB.\n",
      "\n",
      "4:58 PM -- Did shakedown run 27. $\\lambda=5.5$, $U_\\infty=0.8$. Carriage oscillates a bit at mid tank. $C_P=0.04$.\n",
      "\n",
      "5:02 PM -- Did shakedown run 28. $\\lambda=5.0$, $U_\\infty=0.8$, $C_P=0.15$. `std_tow_speed` = 0.026."
     ]
    },
    {
     "cell_type": "code",
     "collapsed": false,
     "input": [
      "pr.process_run(\"shakedown\", 27)"
     ],
     "language": "python",
     "metadata": {},
     "outputs": [
      {
       "metadata": {},
       "output_type": "pyout",
       "prompt_number": 18,
       "text": [
        "run                27.000000\n",
        "mean_tow_speed      0.799884\n",
        "std_tow_speed       0.035874\n",
        "t1                 18.000000\n",
        "t2                 33.860000\n",
        "n_blade_pass       62.000000\n",
        "n_revs             20.000000\n",
        "mean_tsr            5.512072\n",
        "mean_cp             0.039182\n",
        "mean_cd             0.983430\n",
        "std_tsr             0.256873\n",
        "std_cp              0.116307\n",
        "std_cd              0.656637\n",
        "std_tsr_per_rev     0.008917\n",
        "std_cp_per_rev      0.010603\n",
        "std_cd_per_rev      0.028725\n",
        "exp_unc_tsr         0.019149\n",
        "exp_unc_cp          0.029376\n",
        "exp_unc_cd          0.061697\n",
        "dof_tsr            19.000194\n",
        "dof_cp             24.852416\n",
        "dof_cd             19.023431\n",
        "t1_wake            18.000000\n",
        "t2_wake            33.860000\n",
        "y_R                 0.000000\n",
        "z_H                 0.750000\n",
        "mean_u              0.702372\n",
        "mean_v             -0.021277\n",
        "mean_w             -0.094451\n",
        "std_u               0.126974\n",
        "std_v               0.139778\n",
        "std_w               0.098482\n",
        "mean_upvp           0.001712\n",
        "mean_upwp          -0.000784\n",
        "mean_vpwp           0.002026\n",
        "k                   0.022672\n",
        "dtype: float64"
       ]
      }
     ],
     "prompt_number": 18
    }
   ],
   "metadata": {}
  }
 ]
}