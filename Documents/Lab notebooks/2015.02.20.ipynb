{
 "metadata": {
  "name": "",
  "signature": "sha256:cb7d932493fd7a3d569b62623cb0655086806c736d4875edd061897091267cb3"
 },
 "nbformat": 3,
 "nbformat_minor": 0,
 "worksheets": [
  {
   "cells": [
    {
     "cell_type": "heading",
     "level": 1,
     "metadata": {},
     "source": [
      "2015.02.20"
     ]
    },
    {
     "cell_type": "code",
     "collapsed": false,
     "input": [
      "# Standard setup block for running Python code\n",
      "from __future__ import division, print_function\n",
      "import os\n",
      "if os.path.split(os.getcwd())[-1] == \"Lab notebooks\":\n",
      "    os.chdir(\"../../\")\n",
      "    print(\"Moved to experiment root directory\")\n",
      "from Modules.processing import *\n",
      "from Modules.plotting import *\n",
      "plt.style.use(\"Config/plotstyle.mplstyle\")\n",
      "%matplotlib inline"
     ],
     "language": "python",
     "metadata": {},
     "outputs": [
      {
       "output_type": "stream",
       "stream": "stdout",
       "text": [
        "Moved to experiment root directory\n"
       ]
      }
     ],
     "prompt_number": 2
    },
    {
     "cell_type": "markdown",
     "metadata": {},
     "source": [
      "## Daily checklist\n",
      "\n",
      "  * ~~Check tank depth and correct if necessary.~~\n",
      "  * ~~Home turbine axis.~~\n",
      "  * ~~Home tow axis.~~\n",
      "  * ~~Home y-axis.~~\n",
      "  * ~~Home z-axis.~~\n",
      "  * ~~Wipe any corrosion from turbine mounting frame.~~\n",
      "  * ~~Seed and mix tank until Vectrino SNR is approximately 12 dB.~~"
     ]
    },
    {
     "cell_type": "markdown",
     "metadata": {},
     "source": [
      "Started at 10:30 AM.\n",
      "\n",
      "Tank level is 2.44 m.\n",
      "\n",
      "Installed strut covers and blades. Wiped down turbine frame while it was out. \n",
      "\n",
      "12:30 PM -- Homed all axes.\n",
      "\n",
      "12:38 PM -- Wiped down tank walls to drum up some seeding. \n",
      "\n",
      "12:46 PM -- Did 3 dummy tows at 1 m/s. Vectrino SNR looks good.\n",
      "\n",
      "Zero torque looks to be about 1.3 Nm for the transducer and 2.2 for the arm. The arm signal is less noisy. See image below.\n",
      "\n",
      "12:54 PM -- Starting Perf-1.0-covers.\n",
      "\n",
      "Looks like with no blades, the minimum power loss from struts is near the TSR of max power coefficient.\n",
      "\n",
      "Sounds like there is a clicking inside the tow servo, which occurs towing both directions. \n",
      "\n",
      "3:12 PM -- Finished Perf-1.0-covers. Backing up data.\n",
      "\n",
      "4:00 PM -- Started Tare torque runs.\n",
      "\n",
      "5:26 PM -- Tare torque runs finished. Started installing bare frame for tare drag runs.\n",
      "\n",
      "6:01 PM -- Starting tare drag runs with Vectrino at (0, 0). Torque signals should be measuring zero torque now since servo is not installed. Looks similar--2.1 Nm for the arm and 1.2 or so for the transducer. \n",
      "\n",
      "6:28 PM -- Going to redo all tare drag runs but record with Vectrino as a sort of \"calibration\" to check its alignment, though this should be done with the frame out, since it does build up some head in front of the shaft. \n",
      "\n",
      "7:12 PM -- Finished tare drag runs."
     ]
    },
    {
     "cell_type": "code",
     "collapsed": false,
     "input": [
      "process_tare_torque(2)"
     ],
     "language": "python",
     "metadata": {},
     "outputs": [
      {
       "output_type": "stream",
       "stream": "stdout",
       "text": [
        "Processing tare torque run 2\n",
        "Tare torque = 0.838036990583 Nm at 11.5481517857 RPM\n"
       ]
      },
      {
       "metadata": {},
       "output_type": "pyout",
       "prompt_number": 54,
       "text": [
        "(11.548151785714289, -0.83803699058253966)"
       ]
      }
     ],
     "prompt_number": 54
    },
    {
     "cell_type": "code",
     "collapsed": false,
     "input": [
      "from IPython.display import Image\n",
      "Image(url=\"https://unh.box.com/shared/static/onvghpdhf1ycv4dhax84tcc3t9udvu0u.png\")"
     ],
     "language": "python",
     "metadata": {},
     "outputs": [
      {
       "html": [
        "<img src=\"https://unh.box.com/shared/static/onvghpdhf1ycv4dhax84tcc3t9udvu0u.png\"/>"
       ],
       "metadata": {},
       "output_type": "pyout",
       "prompt_number": 1,
       "text": [
        "<IPython.core.display.Image at 0x4dc4930>"
       ]
      }
     ],
     "prompt_number": 1
    },
    {
     "cell_type": "code",
     "collapsed": false,
     "input": [
      "sname = \"Perf-1.0-covers\"\n",
      "sname2 = \"Perf-1.0-no-blades-covers\"\n",
      "Section(sname).process(nproc=1, nruns=\"new\")"
     ],
     "language": "python",
     "metadata": {},
     "outputs": [],
     "prompt_number": 47
    },
    {
     "cell_type": "code",
     "collapsed": false,
     "input": [
      "df = pd.read_csv(\"Data/Processed/{}.csv\".format(sname), index_col=\"run\")\n",
      "df2 = pd.read_csv(\"Data/Processed/{}.csv\".format(sname2), index_col=\"run\")\n",
      "plt.plot(df.mean_tsr, df.mean_cp - df2.mean_cp.iloc[:len(df.mean_cp)], \"-o\")\n",
      "plt.xlabel(\"$\\lambda$\")\n",
      "plt.ylabel(\"$C_P$\")\n",
      "watermark()\n",
      "plt.show()"
     ],
     "language": "python",
     "metadata": {},
     "outputs": [
      {
       "metadata": {},
       "output_type": "display_data",
       "png": "[encoded data removed]",
       "text": [
        "<matplotlib.figure.Figure at 0x117d8b50>"
       ]
      }
     ],
     "prompt_number": 51
    }
   ],
   "metadata": {}
  }
 ]
}