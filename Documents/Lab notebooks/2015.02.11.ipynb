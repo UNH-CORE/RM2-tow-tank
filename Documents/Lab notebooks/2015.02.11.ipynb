{
 "metadata": {
  "name": "",
  "signature": "sha256:00cb9b34f7829a350218ff53094241b72ba1eabc5430ed5d01b32ee77cc15fe6"
 },
 "nbformat": 3,
 "nbformat_minor": 0,
 "worksheets": [
  {
   "cells": [
    {
     "cell_type": "heading",
     "level": 1,
     "metadata": {},
     "source": [
      "2015.02.11"
     ]
    },
    {
     "cell_type": "code",
     "collapsed": false,
     "input": [
      "# Standard setup block for running Python code\n",
      "from __future__ import division, print_function\n",
      "import os\n",
      "if os.path.split(os.getcwd())[-1] == \"Lab notebooks\":\n",
      "    os.chdir(\"../../\")\n",
      "    print(\"Moved to experiment root directory\")\n",
      "from Modules.processing import *\n",
      "from Modules.plotting import *\n",
      "plt.style.use(\"Config/plotstyle.mplstyle\")\n",
      "%matplotlib inline"
     ],
     "language": "python",
     "metadata": {},
     "outputs": [
      {
       "output_type": "stream",
       "stream": "stdout",
       "text": [
        "Moved to experiment root directory\n"
       ]
      }
     ],
     "prompt_number": 1
    },
    {
     "cell_type": "markdown",
     "metadata": {},
     "source": [
      "## Daily checklist\n",
      "\n",
      "  * ~~Check tank depth and correct if necessary.~~\n",
      "  * ~~Home turbine axis.~~\n",
      "  * ~~Home tow axis.~~\n",
      "  * ~~Home y-axis.~~\n",
      "  * ~~Home z-axis.~~\n",
      "  * ~~Wipe any corrosion from turbine mounting frame.~~\n",
      "  * ~~Seed and mix tank until Vectrino SNR is approximately 12 dB.~~"
     ]
    },
    {
     "cell_type": "markdown",
     "metadata": {},
     "source": [
      "Got to the lab about 2 PM. \n",
      "\n",
      "Homed turbine, tow, y-, and z-axes.\n",
      "\n",
      "Tank level is 2.44 m -- good.\n",
      "\n",
      "Put one cup of seeding in the tank on the side we will be measuring first, and did a dummy tow at 1.2 m/s to mix it up.\n",
      "\n",
      "Checking Vectrino SNR -- Up near 15 dB where seeded. \n",
      "\n",
      "2:30 PM -- Starting \"Wake-1.0-0.125\"\n",
      "\n",
      "Confirmed that z-location of Vectrino was scaled properly by turbine height.\n",
      "\n",
      "6:47 PM -- Finished \"Wake-1.0-0.125\"\n",
      "\n",
      "At negative limit, y-RPOS is -1.5249 m.\n",
      "\n",
      "Homing y- and z-axes.\n",
      "\n",
      "7:01 PM -- Starting Wake-1.0-0.25. Added a cup of seeding before run 1.\n",
      "\n",
      "11:14 PM -- Wake-1.0-0.25 complete. Ending for the day. Backed up data.\n",
      "\n",
      "y-axis at negative limit RPOS = -1.52494."
     ]
    },
    {
     "cell_type": "code",
     "collapsed": false,
     "input": [
      "Section(\"Wake-1.0-0.25\").process(nproc=1, nruns=\"new\")"
     ],
     "language": "python",
     "metadata": {},
     "outputs": [],
     "prompt_number": 76
    },
    {
     "cell_type": "code",
     "collapsed": false,
     "input": [
      "WakeProfile(1.0, 0.25).plot_mean_u()\n",
      "watermark()"
     ],
     "language": "python",
     "metadata": {},
     "outputs": [
      {
       "metadata": {},
       "output_type": "display_data",
       "png": "[encoded data removed]",
       "text": [
        "<matplotlib.figure.Figure at 0x10f60bf0>"
       ]
      }
     ],
     "prompt_number": 77
    },
    {
     "cell_type": "heading",
     "level": 2,
     "metadata": {},
     "source": [
      "Trying to predict how much time is left"
     ]
    },
    {
     "cell_type": "code",
     "collapsed": false,
     "input": [
      "# Setting things up\n",
      "setup_time_sec = 3600\n",
      "n_setup_times = 4\n",
      "\n",
      "# Seconds per tow at each speed\n",
      "seconds = {0.8 : 90 + 200,\n",
      "           1.0 : 84 + 240,\n",
      "           1.2 : 80 + 300}\n",
      "\n",
      "# Wake runs\n",
      "runs_per_wake = 43\n",
      "nwake = 4\n",
      "wake_speed = 1.0\n",
      "\n",
      "# Runs for strut torque and strut covers\n",
      "strut_covers_runs = 22\n",
      "strut_torque_runs = strut_covers_runs*2\n",
      "\n",
      "# Tare drag and torque\n",
      "tare_drag_runs = 14\n",
      "tare_torque_runs = 30\n",
      "tare_drag_dur = 200\n",
      "tare_torque_dur = 120\n",
      "\n",
      "total_time_sec = n_setup_times*setup_time_sec + runs_per_wake*nwake*seconds[wake_speed] \\\n",
      "               + strut_covers_runs*seconds[wake_speed] + strut_torque_runs*tare_torque_dur \\\n",
      "               + tare_drag_runs*tare_drag_dur + tare_torque_runs*tare_torque_dur\n",
      "        \n",
      "total_hours = total_time_sec/3600\n",
      "hours_per_day = 10\n",
      "total_days = total_hours/hours_per_day\n",
      "\n",
      "print(total_hours, total_days)"
     ],
     "language": "python",
     "metadata": {},
     "outputs": [
      {
       "output_type": "stream",
       "stream": "stdout",
       "text": [
        "24.7044444444 2.47044444444\n"
       ]
      }
     ],
     "prompt_number": 78
    }
   ],
   "metadata": {}
  }
 ]
}