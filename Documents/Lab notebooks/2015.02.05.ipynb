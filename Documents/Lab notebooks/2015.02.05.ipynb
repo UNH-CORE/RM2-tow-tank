{
 "metadata": {
  "name": "",
  "signature": "sha256:d16328e8bf507812194402eb1bd3695888c6073816d6889505475c1e896397e5"
 },
 "nbformat": 3,
 "nbformat_minor": 0,
 "worksheets": [
  {
   "cells": [
    {
     "cell_type": "heading",
     "level": 1,
     "metadata": {},
     "source": [
      "2015.02.05"
     ]
    },
    {
     "cell_type": "markdown",
     "metadata": {},
     "source": [
      "* Torqued servo gearhead to mounting block.\n",
      "* Torqued lower half of upper servo coupling to 70 Nm.\n",
      "* Applied dielectric grease to cabinet end of servo power and feedback cabled, and attached these to the servo and cabinet connectors. \n",
      "* Confirmed AKD parameters\n",
      "  * Slider tuning at 5\n",
      "  * Regen set to external\n",
      "  * Emulated encoder ouput at 5,000 lines per rev, or 1e5 including the gearbox.\n",
      "* Jogged turbine axis at 5 RPM and things looked good. Recorded some video.\n",
      "* Wired up torque transducer to 9205 module and 12 VDC power supply.\n",
      "* Attached Vectrino sync leads; applied dielectric grease to terminals.\n",
      "* Homed z-axis.\n",
      "* Checked Vectrino comms; good.\n",
      "* Checked Vectrino velocity measurement; very noisy, but probably due to no seeding. \n",
      "* z-axis has some trouble sticking when reversing direction. Will need to do some tuning. \n",
      "* Looked at torque, drag and RPM NI signals while rotating turbine at 10 RPM; look good.\n",
      "* Homed y-axis; looks good.\n",
      "* Jogged turbine at 15 RPM.\n",
      "* Torque transducer and arm measurements appear to be tracking eachother, which is good."
     ]
    },
    {
     "cell_type": "markdown",
     "metadata": {},
     "source": [
      "Vectrino trigger was not working initially. Moved positive lead to \"Synch -\" and it worked fine."
     ]
    },
    {
     "cell_type": "markdown",
     "metadata": {},
     "source": [
      "Have done a couple shakedown runs at 0.5 m/s:\n",
      "\n",
      "| $\\lambda$ | $C_P$ |\n",
      "|-----------|-------|\n",
      "| 2.6 | 0.13 | \n",
      "| 2.7 | 0.17 | \n",
      "| 2.8 | 0.21 | \n",
      "| 2.9 | 0.24 | \n",
      "| 3.0 | 0.27 |\n",
      "| 3.1 | 0.29 |\n",
      "| 3.2 | 0.31 |\n",
      "| 3.3 | 0.32 |\n",
      "| 3.4 | 0.32 |\n"
     ]
    },
    {
     "cell_type": "markdown",
     "metadata": {},
     "source": [
      "Greased z-axis ball screw to aleviate binding.\n",
      "\n",
      "To-do\n",
      "-----\n",
      "* ~~Re-tape Vectrino cable~~\n",
      "* ~~Zero turbine angle~~\n",
      "* ~~Take more pictures~~\n",
      "* ~~Measure YZ traverse geometry~~\n",
      "* Measure salinity\n",
      "* Add seeding\n"
     ]
    },
    {
     "cell_type": "heading",
     "level": 2,
     "metadata": {},
     "source": [
      "Confirming YZ traverse geometry"
     ]
    },
    {
     "cell_type": "markdown",
     "metadata": {},
     "source": [
      "The distance shown below was measured by tape measure to be 70 3/16\" when the controller thinks $y=0$."
     ]
    },
    {
     "cell_type": "code",
     "collapsed": false,
     "input": [
      "from IPython.display import Image\n",
      "Image(url=\"https://unh.app.box.com/representation/file_version_24233534713/image_2048/1.png\")"
     ],
     "language": "python",
     "metadata": {},
     "outputs": [
      {
       "html": [
        "<img src=\"https://unh.app.box.com/representation/file_version_24233534713/image_2048/1.png\"/>"
       ],
       "metadata": {},
       "output_type": "pyout",
       "prompt_number": 9,
       "text": [
        "<IPython.core.display.Image at 0x4c59230>"
       ]
      }
     ],
     "prompt_number": 9
    },
    {
     "cell_type": "markdown",
     "metadata": {},
     "source": [
      "The measurement corresponding to the image below was 74 1/8\" via tape measure, so things look pretty good."
     ]
    },
    {
     "cell_type": "code",
     "collapsed": false,
     "input": [
      "Image(url=\"https://unh.app.box.com/representation/file_version_24233537493/image_2048/1.png\")"
     ],
     "language": "python",
     "metadata": {},
     "outputs": [
      {
       "html": [
        "<img src=\"https://unh.app.box.com/representation/file_version_24233537493/image_2048/1.png\"/>"
       ],
       "metadata": {},
       "output_type": "pyout",
       "prompt_number": 10,
       "text": [
        "<IPython.core.display.Image at 0x4c59910>"
       ]
      }
     ],
     "prompt_number": 10
    },
    {
     "cell_type": "code",
     "collapsed": false,
     "input": [],
     "language": "python",
     "metadata": {},
     "outputs": [],
     "prompt_number": 10
    }
   ],
   "metadata": {}
  }
 ]
}