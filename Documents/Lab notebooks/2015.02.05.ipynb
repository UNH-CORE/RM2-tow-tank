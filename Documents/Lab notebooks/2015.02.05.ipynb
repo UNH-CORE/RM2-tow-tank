{
 "metadata": {
  "name": "",
  "signature": "sha256:3b803a9c64fd9aefdd658cfa54fc83da915934f5ea04589d7ec9ac9501205b43"
 },
 "nbformat": 3,
 "nbformat_minor": 0,
 "worksheets": [
  {
   "cells": [
    {
     "cell_type": "heading",
     "level": 1,
     "metadata": {},
     "source": [
      "2015.02.05"
     ]
    },
    {
     "cell_type": "markdown",
     "metadata": {},
     "source": [
      "* Torqued servo gearhead to mounting block.\n",
      "* Torqued lower half of upper servo coupling to 70 Nm.\n",
      "* Applied dielectric grease to cabinet end of servo power and feedback cabled, and attached these to the servo and cabinet connectors. \n",
      "* Confirmed AKD parameters\n",
      "  * Slider tuning at 5\n",
      "  * Regen set to external\n",
      "  * Emulated encoder ouput at 5,000 lines per rev, or 1e5 including the gearbox.\n",
      "* Jogged turbine axis at 5 RPM and things looked good. Recorded some video.\n",
      "* Wired up torque transducer to 9205 module and 12 VDC power supply.\n",
      "* Attached Vectrino sync leads; applied dielectric grease to terminals.\n",
      "* Homed z-axis.\n",
      "* Checked Vectrino comms; good.\n",
      "* Checked Vectrino velocity measurement; very noisy, but probably due to no seeding. \n",
      "* z-axis has some trouble sticking when reversing direction. Will need to do some tuning. \n",
      "* Looked at torque, drag and RPM NI signals while rotating turbine at 10 RPM; look good.\n",
      "* Homed y-axis; looks good.\n",
      "* Jogged turbine at 15 RPM.\n",
      "* Torque transducer and arm measurements appear to be tracking eachother, which is good."
     ]
    },
    {
     "cell_type": "markdown",
     "metadata": {},
     "source": [
      "Vectrino trigger was not working initially. Moved positive lead to \"Synch -\" and it worked fine."
     ]
    },
    {
     "cell_type": "markdown",
     "metadata": {},
     "source": [
      "Have done a couple shakedown runs at 0.5 m/s:\n",
      "\n",
      "| $\\lambda$ | $C_P$ |\n",
      "|-----------|-------|\n",
      "| 2.6 | 0.13 | \n",
      "| 2.7 | 0.17 | \n",
      "| 2.8 | 0.21 | \n",
      "| 2.9 | 0.24 | \n",
      "| 3.0 | 0.27 |\n",
      "| 3.1 | 0.29 |\n",
      "| 3.2 | 0.31 |"
     ]
    }
   ],
   "metadata": {}
  }
 ]
}