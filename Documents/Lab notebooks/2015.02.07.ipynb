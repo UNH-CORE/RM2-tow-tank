{
 "metadata": {
  "name": "",
  "signature": "sha256:d2120feea7aa8e53882a1ba0498000688facba7ff35231bc15125662376feee3"
 },
 "nbformat": 3,
 "nbformat_minor": 0,
 "worksheets": [
  {
   "cells": [
    {
     "cell_type": "heading",
     "level": 1,
     "metadata": {},
     "source": [
      "2015.02.07"
     ]
    },
    {
     "cell_type": "code",
     "collapsed": false,
     "input": [
      "# Standard setup block for running Python code\n",
      "import os\n",
      "if os.path.split(os.getcwd())[-1] == \"Lab notebooks\":\n",
      "    os.chdir(\"../../\")\n",
      "    print(\"Moved to experiment root directory\")\n",
      "from Modules.processing import *\n",
      "from Modules.plotting import *\n",
      "%matplotlib inline"
     ],
     "language": "python",
     "metadata": {},
     "outputs": [
      {
       "output_type": "stream",
       "stream": "stdout",
       "text": [
        "Moved to experiment root directory\n"
       ]
      }
     ],
     "prompt_number": 1
    },
    {
     "cell_type": "markdown",
     "metadata": {},
     "source": [
      "## Daily checklist\n",
      "\n",
      "  * ~~Check tank depth and correct if necessary.~~\n",
      "  * ~~Home turbine axis.~~\n",
      "  * ~~Home tow axis.~~\n",
      "  * ~~Home y-axis.~~\n",
      "  * ~~Home z-axis.~~\n",
      "  * ~~Wipe any corrosion from turbine mounting frame.~~\n",
      "  * ~~Seed and mix tank until Vectrino SNR is approximately 12 dB.~~"
     ]
    },
    {
     "cell_type": "markdown",
     "metadata": {},
     "source": [
      "Got to the lab about 11 AM. \n",
      "\n",
      "Homed turbine, tow, y-, and z-axes.\n",
      "\n",
      "Going to use $\\lambda=3.2$ for the settling runs, since this looks like it is probably where we will do the wake measurements.\n",
      "\n",
      "Tank depth is 2.45 m today.\n",
      "\n",
      "Measured tank salinity with refractometer--2 ppt. Updated `Config/vectrino_properties.json`.\n",
      "\n",
      "12:10 PM -- Vectrino was acting strange so reset. Looks normal now.\n",
      "\n",
      "12:17 PM -- Added a cup of seeding particles to the tank.\n",
      "\n",
      "12:47 PM -- Did some TurbineDAQ debugging to run test plan and changed location for determining settling time to the position of the control platform (approximately mid-tank).\n",
      "\n",
      "2:55 PM -- Doing some dummy settling runs to feel out the parameters for data processing. It looks like if we disable all motion axes after stopping, apply a 1200 sample moving average filter, and look for the first zero crossing in the streamwise velocity, settling times are reasonable. \n",
      "\n",
      "Vectrino SNR looks to be about 10 dB, but there are very few spikes in the velocity, which is promising. \n",
      "\n",
      "2:58 PM -- Did dummy settling run 4. Disabled all motion when carriage stopped. Apparent \"noise\" in Vectrino signals decreases significantly. Not sure if this is due to electrical noise. Vectrino correlation is nice and high, along with the SNR around 12 dB. \n",
      "\n",
      "3:21 PM -- Did dummy settling run 5. Looking like 200 seconds would be a good settling time. \n",
      "\n",
      "4:40 PM -- Backed up experiment directory on external hard drive. \n",
      "\n",
      "4:45 PM -- Redoing settling run 1 since tank wasn't seeded enough for first one.\n",
      "\n",
      "6:06 PM -- Have done settling runs up to 0.9 m/s. Using threshold of 0.01 m/s, and smoothing the velocity data over 400 samples, the tank settles in 140--180 seconds. "
     ]
    },
    {
     "cell_type": "heading",
     "level": 2,
     "metadata": {},
     "source": [
      "Determining settling times"
     ]
    },
    {
     "cell_type": "code",
     "collapsed": false,
     "input": [
      "print(pd.read_csv(\"Config/Test plan/Settling.csv\"))"
     ],
     "language": "python",
     "metadata": {},
     "outputs": [
      {
       "output_type": "stream",
       "stream": "stdout",
       "text": [
        "   run  tow_speed  tsr  y/R  z/H\n",
        "0    0        0.3  3.2    0    0\n",
        "1    1        0.4  3.2    0    0\n",
        "2    2        0.5  3.2    0    0\n",
        "3    3        0.6  3.2    0    0\n",
        "4    4        0.7  3.2    0    0\n",
        "5    5        0.8  3.2    0    0\n",
        "6    6        0.9  3.2    0    0\n",
        "7    7        1.0  3.2    0    0\n"
       ]
      }
     ],
     "prompt_number": 2
    },
    {
     "cell_type": "code",
     "collapsed": false,
     "input": [
      "plot_settling(7, smooth_window=2400, tol=0.02, std=False)"
     ],
     "language": "python",
     "metadata": {},
     "outputs": [
      {
       "output_type": "stream",
       "stream": "stdout",
       "text": [
        "Tow speed: 1.0 m/s\n",
        "First zero crossing: 101 s\n",
        "Settling time based on threshold: 116 s\n"
       ]
      },
      {
       "metadata": {},
       "output_type": "display_data",
       "png": "[encoded data removed]",
       "text": [
        "<matplotlib.figure.Figure at 0x12ba3070>"
       ]
      }
     ],
     "prompt_number": 97
    },
    {
     "cell_type": "code",
     "collapsed": false,
     "input": [],
     "language": "python",
     "metadata": {},
     "outputs": [],
     "prompt_number": 3
    }
   ],
   "metadata": {}
  }
 ]
}