{
 "metadata": {
  "name": "",
  "signature": "sha256:ad8fb183709db2f4a071c0e407755edf0937e10679fffe2040144c1d98abe168"
 },
 "nbformat": 3,
 "nbformat_minor": 0,
 "worksheets": [
  {
   "cells": [
    {
     "cell_type": "heading",
     "level": 1,
     "metadata": {},
     "source": [
      "2015.02.07"
     ]
    },
    {
     "cell_type": "code",
     "collapsed": false,
     "input": [
      "# Standard setup block for running Python code\n",
      "import os\n",
      "if os.path.split(os.getcwd())[-1] == \"Lab notebooks\":\n",
      "    os.chdir(\"../../\")\n",
      "    print(\"Moved to experiment root directory\")\n",
      "from Modules.processing import *\n",
      "from Modules.plotting import *\n",
      "%matplotlib inline"
     ],
     "language": "python",
     "metadata": {},
     "outputs": [],
     "prompt_number": 5
    },
    {
     "cell_type": "markdown",
     "metadata": {},
     "source": [
      "## Daily checklist\n",
      "\n",
      "  * ~~Check tank depth and correct if necessary.~~\n",
      "  * ~~Home turbine axis.~~\n",
      "  * ~~Home tow axis.~~\n",
      "  * ~~Home y-axis.~~\n",
      "  * ~~Home z-axis.~~\n",
      "  * ~~Wipe any corrosion from turbine mounting frame.~~\n",
      "  * Seed and mix tank until Vectrino SNR is approximately 12 dB."
     ]
    },
    {
     "cell_type": "markdown",
     "metadata": {},
     "source": [
      "Got to the lab about 11 AM. \n",
      "\n",
      "Homed turbine, tow, y-, and z-axes.\n",
      "\n",
      "Going to use $\\lambda=3.2$ for the settling runs, since this looks like it is probably where we will do the wake measurements.\n",
      "\n",
      "Tank depth is 2.45 m today.\n",
      "\n",
      "Measured tank salinity with refractometer--2 ppt. Update `Config/vectrino_properties.json`.\n",
      "\n",
      "12:10 PM -- Vectrino was acting strange so reset. Looks normal now.\n",
      "\n",
      "12:17 PM -- Added a cup of seeding particles to the tank.\n",
      "\n",
      "12:47 -- Did some TurbineDAQ debugging to run test plan and changed location for determining settling time to the position of the control platform (approximately mid-tank).\n",
      "\n"
     ]
    },
    {
     "cell_type": "heading",
     "level": 2,
     "metadata": {},
     "source": [
      "Shakedown runs to find $\\lambda_0$ (at $U_\\infty=0.8$)"
     ]
    },
    {
     "cell_type": "code",
     "collapsed": false,
     "input": [
      "#runs = [27, 28] + range(32, 74)\n",
      "#runs = [34, 44, 48, 49, 52] + range(57, 66) + [67, 68, 69]\n",
      "runs = [27, 28, 32, 33, 35, 37, 40, 41, 43, 44, 45, 45, 48, 50, 51, 53, 56, 57, 58, 59, \n",
      "        60, 61, 62, 63, 64, 66, 67, 69, 70, 71, 72, 73]\n",
      "cp = []\n",
      "tsr = []\n",
      "\n",
      "for n in runs:\n",
      "    r = Run(\"shakedown\", n)\n",
      "    cp.append(r.mean_cp)\n",
      "    tsr.append(r.mean_tsr)\n",
      "    \n",
      "df = pd.DataFrame()\n",
      "df[\"run\"] = runs\n",
      "df[\"tsr\"] = tsr\n",
      "df[\"cp\"] = cp\n",
      "\n",
      "print(df)\n",
      "\n",
      "plt.figure(figsize=(10,6))\n",
      "plt.plot(tsr, cp, \"o\")\n",
      "plt.xlim((0, 5.75))\n",
      "plt.ylim((0, 0.4))\n",
      "plt.xlabel(\"$\\lambda$\")\n",
      "plt.ylabel(\"$C_P$\")\n",
      "plt.show()"
     ],
     "language": "python",
     "metadata": {},
     "outputs": [
      {
       "output_type": "stream",
       "stream": "stdout",
       "text": [
        "    run       tsr        cp\n",
        "0    27  5.512072  0.039182\n",
        "1    28  5.005034  0.147397\n",
        "2    32  3.099969  0.363332\n",
        "3    33  3.199763  0.369371\n",
        "4    35  3.299927  0.372099\n",
        "5    37  3.399965  0.357409\n",
        "6    40  3.199904  0.369293\n",
        "7    41  3.199778  0.369911\n",
        "8    43  3.300005  0.365022\n",
        "9    44  2.999749  0.364746\n",
        "10   45  2.899874  0.347091\n",
        "11   45  2.899874  0.347091\n",
        "12   48  3.499725  0.351717\n",
        "13   50  3.299891  0.369130\n",
        "14   51  3.099923  0.367295\n",
        "15   53  2.799881  0.323646\n",
        "16   56  3.399791  0.362773\n",
        "17   57  3.999676  0.299448\n",
        "18   58  4.499913  0.216621\n",
        "19   59  2.499736  0.232697\n",
        "20   60  2.000273  0.068157\n",
        "21   61  2.250025  0.148874\n",
        "22   62  1.500214  0.015306\n",
        "23   63  1.000192  0.007725\n",
        "24   64  1.750123  0.031158\n",
        "25   66  2.599689  0.268255\n",
        "26   67  4.249822  0.256189\n",
        "27   69  4.750217  0.178148\n",
        "28   70  2.129849  0.100572\n",
        "29   71  2.380237  0.184940\n",
        "30   72  3.629764  0.343734\n",
        "31   73  3.879843  0.312008\n"
       ]
      },
      {
       "metadata": {},
       "output_type": "display_data",
       "png": "[encoded data removed]",
       "text": [
        "<matplotlib.figure.Figure at 0x10cad3b0>"
       ]
      }
     ],
     "prompt_number": 6
    },
    {
     "cell_type": "code",
     "collapsed": false,
     "input": [
      "3.3*pr.R*.06*0.8/1e-6"
     ],
     "language": "python",
     "metadata": {},
     "outputs": []
    },
    {
     "cell_type": "code",
     "collapsed": false,
     "input": [
      "pr.process_latest_run(\"shakedown\")"
     ],
     "language": "python",
     "metadata": {},
     "outputs": []
    },
    {
     "cell_type": "code",
     "collapsed": false,
     "input": [
      "pr.process_run(\"shakedown\", 37)"
     ],
     "language": "python",
     "metadata": {},
     "outputs": []
    }
   ],
   "metadata": {}
  }
 ]
}